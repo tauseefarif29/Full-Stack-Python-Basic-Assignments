{
 "cells": [
  {
   "cell_type": "markdown",
   "metadata": {},
   "source": [
    "### Question 1\n",
    "\n",
    "In the below elements which of them are values or an expression? eg:- values can be\n",
    "integer or string and expressions will be mathematical operators.\n",
    "*\n",
    "'hello'\n",
    "-87.8\n",
    "-\n",
    "/\n",
    "+\n",
    "6"
   ]
  },
  {
   "cell_type": "markdown",
   "metadata": {},
   "source": [
    " ### Answer 1\n",
    " \n",
    "(* - / +) are all expressions, whereas ('hello', -87.8, 6) are values"
   ]
  },
  {
   "cell_type": "markdown",
   "metadata": {},
   "source": [
    "### Question 2\n",
    "\n",
    "What is the difference between string and variable?"
   ]
  },
  {
   "cell_type": "markdown",
   "metadata": {},
   "source": [
    "### Answer 2\n",
    "\n",
    "A variable is the storage of information or data, whereas a string is the type of information or data stored in a variable.\n",
    "\n",
    "Eg : x = \"Welcome to data science\"\n",
    "\n",
    "Here x is a variable containing data as \"Welcome to data science\", and the datatype of x is string.\n",
    "\n",
    "We can check the datatype of a variable as:\n",
    "\n",
    "type(x) \n",
    "\n",
    "Outpt will be - str\n"
   ]
  },
  {
   "cell_type": "markdown",
   "metadata": {},
   "source": [
    "### Question 3\n",
    "\n",
    "Describe three different data types."
   ]
  },
  {
   "cell_type": "markdown",
   "metadata": {},
   "source": [
    "### Answer 3\n",
    "\n",
    "In Python there a different built-in data types:\n",
    "\n",
    "Some of the important data types are follow-\n",
    "\n",
    "1. String : String is a text datatype surrounded by either single or double quotation mark.\n",
    "\n",
    "    Example - \n",
    "\n",
    "    print(\"Hello World\")\n",
    "    \n",
    "\n",
    "2. Numerical data types : \n",
    "\n",
    "    a.  int - Int or integers as numerical datatypes containing positive or negative whole numbers. There is no limitation                of how long a string can be.\n",
    "    \n",
    "               \n",
    "      Example - a = 45, here variable a is containg 45 as information, whose data type is int.\n",
    "         \n",
    "     \n",
    "    b.  float - float is also a numerical datatype containing real positive or negative floating point numbers. It is specified by a decimal.\n",
    "    \n",
    "    Example - f = 12.5, here variable f is containg 12.5 as information, whose data type is float.\n",
    "    \n",
    "    \n",
    "    c. complex - complex datatype consist of a real and imaginary part.\n",
    "    \n",
    "    Example - c = 6 + 5j, here 6 is real and 5 is the imaginary part with notation j.\n",
    "    \n",
    "3. Bool - Boolean data type contains two values ie True or False.\n",
    "    \n",
    "    Exapmle - Suppose we have a list as l = [1,2,3], now if check - 2 in l. Since 2 is present in our list l, output will be True. \n",
    " "
   ]
  },
  {
   "cell_type": "markdown",
   "metadata": {},
   "source": [
    "### Question 4\n",
    "\n",
    "What is an expression made up of? What do all expressions do?"
   ]
  },
  {
   "cell_type": "markdown",
   "metadata": {},
   "source": [
    "### Answer 4\n",
    "\n",
    "Expression is a valid combination of operators, literals and variables that yeild a result value.\n",
    "\n",
    "Example -- (1+3) is an expression, but (sum = 1+3) is not.\n",
    "\n",
    "#### Types of Expressions:\n",
    "\n",
    "1. Arithmatic Expressions : It involves numbers and arithmatic operators.\n",
    "    \n",
    "    Example - 2+5\n",
    "    \n",
    "    \n",
    "2. Relational Expressions : It involves valid operants and relational operators. \n",
    "    \n",
    "    Example - 20>10\n",
    "    \n",
    "    \n",
    "3. String Expressions : It involves any valid combination of string operators(+ and *) and string operands. \n",
    "    \n",
    "    Example - \"Hello\" + \"World\" will give o/p as 'Hello World'\n",
    "    \n",
    "    \n",
    "4. Logical Expressions : It involves valid combination of operands and logical operators.\n",
    "\n",
    "    Example - x,y = 10,20\n",
    "            \n",
    "              if x>y and y == 20:\n",
    "                  print (\"valid\")\n",
    "              else:\n",
    "                  print(\"invalid\")\n",
    "\n",
    "\n",
    "5. Compound Expressions : It is an expression having more than one expression.\n"
   ]
  },
  {
   "cell_type": "markdown",
   "metadata": {},
   "source": [
    "### Question 5\n",
    "\n",
    "This assignment statements, like spam = 10. What is the difference between an\n",
    "expression and a statement?"
   ]
  },
  {
   "cell_type": "markdown",
   "metadata": {},
   "source": [
    "### Answer 5\n",
    "\n",
    "In python programming an expression is a combination of values and function that are combined and interpreted by the compiler to create a new value or o/p.\n",
    "\n",
    "Whereas, a statement is just a separate unit of execution and does not return anything.\n",
    "\n",
    "Here in the assignment statement (spam = 10), it just holding a value of spam as integer value of 10. It is not giving out anything as output."
   ]
  },
  {
   "cell_type": "markdown",
   "metadata": {},
   "source": [
    "### Ouestion 6\n",
    "\n",
    "After running the following code, what does the variable bacon contain?\n",
    "bacon = 22\n",
    "bacon + 1"
   ]
  },
  {
   "cell_type": "markdown",
   "metadata": {},
   "source": [
    "### Answer 6"
   ]
  },
  {
   "cell_type": "code",
   "execution_count": 9,
   "metadata": {},
   "outputs": [
    {
     "name": "stdout",
     "output_type": "stream",
     "text": [
      "The value of bacon contains: 22\n"
     ]
    }
   ],
   "source": [
    "bacon = 22\n",
    "bacon +1\n",
    "\n",
    "print(\"The value of bacon contains: \" + str(bacon))"
   ]
  },
  {
   "cell_type": "markdown",
   "metadata": {},
   "source": [
    "### Question 7\n",
    "\n",
    "What should the values of the following two terms be?\n",
    "&#39;spam&#39; + &#39;spamspam&#39;\n",
    "&#39;spam&#39; * 3"
   ]
  },
  {
   "cell_type": "markdown",
   "metadata": {},
   "source": [
    "### Answer 7"
   ]
  },
  {
   "cell_type": "code",
   "execution_count": 10,
   "metadata": {},
   "outputs": [
    {
     "data": {
      "text/plain": [
       "'spamspamspam'"
      ]
     },
     "execution_count": 10,
     "metadata": {},
     "output_type": "execute_result"
    }
   ],
   "source": [
    "'spam' + 'spamspam'"
   ]
  },
  {
   "cell_type": "code",
   "execution_count": 11,
   "metadata": {},
   "outputs": [
    {
     "data": {
      "text/plain": [
       "'spamspamspam'"
      ]
     },
     "execution_count": 11,
     "metadata": {},
     "output_type": "execute_result"
    }
   ],
   "source": [
    "'spam' * 3"
   ]
  },
  {
   "cell_type": "markdown",
   "metadata": {},
   "source": [
    "### Question 8\n",
    "\n",
    "Why is eggs a valid variable name while 100 is invalid?"
   ]
  },
  {
   "cell_type": "markdown",
   "metadata": {},
   "source": [
    "### Answer 8\n",
    "\n",
    "#### Rules for variable declaration in python: \n",
    "\n",
    "1. A variable must start with a letter or underscore character.\n",
    "\n",
    "2. A variable cannot start with a number.\n",
    "\n",
    "3. A variable can only contain alpha-numeric characters and underscore (A-z, 0-9, _)\n",
    "\n",
    "4. Variable names are case sesitive. (a, A, x, X, items, Items)\n",
    "\n",
    "\n",
    "Hence from above set of rules, eggs is valid variable as it is letter and fulfills condition 1.\n",
    "\n",
    "Whereas, 100 is invalid as it is a number. And as per rule number 2 a variable cannot start with a number."
   ]
  },
  {
   "cell_type": "markdown",
   "metadata": {},
   "source": [
    "### Question 9\n",
    "\n",
    "What three functions can be used to get the integer, floating-point number, or string\n",
    "version of a value?"
   ]
  },
  {
   "cell_type": "markdown",
   "metadata": {},
   "source": [
    "### Answer 9\n",
    "\n",
    "int(), float() and str() can be used to get the desired version of a value passed to them.\n",
    "\n",
    "Example:"
   ]
  },
  {
   "cell_type": "code",
   "execution_count": 14,
   "metadata": {},
   "outputs": [
    {
     "name": "stdout",
     "output_type": "stream",
     "text": [
      "23\n",
      "23.5\n",
      "23.5\n"
     ]
    }
   ],
   "source": [
    "a = 23.5\n",
    "print(int(a))\n",
    "print(str(a))\n",
    "print(float(a))\n"
   ]
  },
  {
   "cell_type": "markdown",
   "metadata": {},
   "source": [
    "### Question 10\n",
    "\n",
    "Why does this expression cause an error? How can you fix it?\n",
    "&#39;I have eaten &#39; + 99 + &#39; burritos.&#39;"
   ]
  },
  {
   "cell_type": "markdown",
   "metadata": {},
   "source": [
    "### Answer 10"
   ]
  },
  {
   "cell_type": "code",
   "execution_count": 1,
   "metadata": {},
   "outputs": [
    {
     "ename": "TypeError",
     "evalue": "can only concatenate str (not \"int\") to str",
     "output_type": "error",
     "traceback": [
      "\u001b[1;31m---------------------------------------------------------------------------\u001b[0m",
      "\u001b[1;31mTypeError\u001b[0m                                 Traceback (most recent call last)",
      "\u001b[1;32m<ipython-input-1-6b36d84931dc>\u001b[0m in \u001b[0;36m<module>\u001b[1;34m\u001b[0m\n\u001b[1;32m----> 1\u001b[1;33m \u001b[1;34m'I have eaten'\u001b[0m \u001b[1;33m+\u001b[0m \u001b[1;36m99\u001b[0m \u001b[1;33m+\u001b[0m  \u001b[1;34m'burritos.'\u001b[0m\u001b[1;33m\u001b[0m\u001b[1;33m\u001b[0m\u001b[0m\n\u001b[0m\u001b[0;32m      2\u001b[0m \u001b[1;31m# Above error is caused because str and int concatinatio is not possible. If type cast int to str, error will be gone.\u001b[0m\u001b[1;33m\u001b[0m\u001b[1;33m\u001b[0m\u001b[1;33m\u001b[0m\u001b[0m\n",
      "\u001b[1;31mTypeError\u001b[0m: can only concatenate str (not \"int\") to str"
     ]
    }
   ],
   "source": [
    "'I have eaten' + 99 +  'burritos.'\n",
    "# Above error is caused because str and int concatinatio is not possible. If type cast int to str, error will be gone."
   ]
  },
  {
   "cell_type": "code",
   "execution_count": 2,
   "metadata": {},
   "outputs": [
    {
     "data": {
      "text/plain": [
       "'I have eaten 99 burritos.'"
      ]
     },
     "execution_count": 2,
     "metadata": {},
     "output_type": "execute_result"
    }
   ],
   "source": [
    "'I have eaten ' + str(99) +  ' burritos.'"
   ]
  }
 ],
 "metadata": {
  "kernelspec": {
   "display_name": "Python 3",
   "language": "python",
   "name": "python3"
  },
  "language_info": {
   "codemirror_mode": {
    "name": "ipython",
    "version": 3
   },
   "file_extension": ".py",
   "mimetype": "text/x-python",
   "name": "python",
   "nbconvert_exporter": "python",
   "pygments_lexer": "ipython3",
   "version": "3.8.5"
  }
 },
 "nbformat": 4,
 "nbformat_minor": 4
}
