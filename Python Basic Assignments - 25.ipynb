{
 "cells": [
  {
   "cell_type": "markdown",
   "metadata": {},
   "source": [
    "### Question 1\n",
    "\n",
    "What is the difference between enclosing a list comprehension in square brackets and\n",
    "parentheses?"
   ]
  },
  {
   "cell_type": "markdown",
   "metadata": {},
   "source": [
    "### Answer 1\n",
    "\n",
    "List comprehensions enclosed within a square brackets or a paranthesis, both forms list data types."
   ]
  },
  {
   "cell_type": "code",
   "execution_count": 6,
   "metadata": {},
   "outputs": [
    {
     "name": "stdout",
     "output_type": "stream",
     "text": [
      "[1, 2, 3]\n",
      "[1, 2, 3]\n",
      "<class 'list'>\n",
      "<class 'list'>\n"
     ]
    }
   ],
   "source": [
    "num = (1,2,3)\n",
    "\n",
    "lst1 = list(num) # If we want to enclose in paranthesis, only one argument it takes so need to first declare as variable.\n",
    "lst2 = [1,2,3] # no need to declare as variable, we can directly give as may hetrogeneous elements in a list.\n",
    "\n",
    "print(lst1)\n",
    "print(lst2)\n",
    "\n",
    "print(type(lst1))\n",
    "print(type(lst2))"
   ]
  },
  {
   "cell_type": "markdown",
   "metadata": {},
   "source": [
    "### Queston 2\n",
    "\n",
    "What is the relationship between generators and iterators?"
   ]
  },
  {
   "cell_type": "markdown",
   "metadata": {},
   "source": [
    "### Answer 2\n",
    "\n",
    "#### Iterators\n",
    "Iterators are used to iterate or convert other objetcs to an iterator using iter() function."
   ]
  },
  {
   "cell_type": "code",
   "execution_count": 10,
   "metadata": {},
   "outputs": [
    {
     "name": "stdout",
     "output_type": "stream",
     "text": [
      "Apple\n",
      "Banana\n",
      "Mango\n"
     ]
    }
   ],
   "source": [
    "lis = iter([\"Apple\", \"Banana\", \"Mango\"])\n",
    "\n",
    "print(next(lis))\n",
    "print(next(lis))\n",
    "print(next(lis))"
   ]
  },
  {
   "cell_type": "markdown",
   "metadata": {},
   "source": [
    "#### Generators\n",
    "Generators are used in loops to generate an iterator by returning all the values in loop without affecting iteration of the loop."
   ]
  },
  {
   "cell_type": "code",
   "execution_count": 11,
   "metadata": {},
   "outputs": [],
   "source": [
    "def seq_num(n):\n",
    "    for num in range(1,n+1):\n",
    "        yield num*num"
   ]
  },
  {
   "cell_type": "code",
   "execution_count": 13,
   "metadata": {},
   "outputs": [
    {
     "name": "stdout",
     "output_type": "stream",
     "text": [
      "The square of numbers 1,2,3 and 4 are below:\n",
      "1\n",
      "4\n",
      "9\n",
      "16\n"
     ]
    }
   ],
   "source": [
    "number = seq_num(4)\n",
    "\n",
    "print(\"The square of numbers 1,2,3 and 4 are below:\")\n",
    "print(next(number))\n",
    "print(next(number))\n",
    "print(next(number))\n",
    "print(next(number))"
   ]
  },
  {
   "cell_type": "markdown",
   "metadata": {},
   "source": [
    "### Question 3\n",
    "\n",
    "What are the signs that a function is a generator function?"
   ]
  },
  {
   "cell_type": "markdown",
   "metadata": {},
   "source": [
    "### Answer 3\n",
    "\n",
    "Yield statement differentiates a normal function and a generator function.\n",
    "\n",
    "If a function contains atleast one yield statement (there can be other yield or return statements), it becomes a generator function."
   ]
  },
  {
   "cell_type": "markdown",
   "metadata": {},
   "source": [
    "### Question 4\n",
    "\n",
    "What is the purpose of a yield statement?"
   ]
  },
  {
   "cell_type": "markdown",
   "metadata": {},
   "source": [
    "### Answer 4\n",
    "\n",
    "Yield is a keyword that is used to return from a function without destroying the states of its local variable.\n",
    "When the function is called, the execution starts from the last yield statement.\n",
    "\n",
    "Any function that contains a yield statement is called generartors."
   ]
  },
  {
   "cell_type": "markdown",
   "metadata": {},
   "source": [
    "### Question 5\n",
    "\n",
    "What is the relationship between map calls and list comprehensions? Make a comparison and\n",
    "contrast between the two."
   ]
  },
  {
   "cell_type": "markdown",
   "metadata": {},
   "source": [
    "### Answer 5\n",
    "\n",
    "#### Map()\n",
    "If we want to compute a function for different values in a single line of code, then map() function is used.\n",
    "\n",
    "Map() function returns a map object(which is an iterator) of results of any given iterables(list, tuple...) "
   ]
  },
  {
   "cell_type": "code",
   "execution_count": 14,
   "metadata": {},
   "outputs": [
    {
     "name": "stdout",
     "output_type": "stream",
     "text": [
      "<map object at 0x000001E724281760>\n",
      "[4, 16, 3025, 4251.04, 9, 81]\n"
     ]
    }
   ],
   "source": [
    "def num(n):\n",
    "    return n*n\n",
    "\n",
    "lis = [2,4,55,65.2,3,-9]\n",
    "\n",
    "# creating a map object\n",
    "n = map(num, lis)\n",
    "print(n)\n",
    "\n",
    "print(list(n)) # print list "
   ]
  },
  {
   "cell_type": "markdown",
   "metadata": {},
   "source": [
    "#### List Comprehension\n",
    "It can be used as a lambda function. It can use map(), filter() or reduce() functions.\n",
    "It follows the form of mathematical set builder notation. \n",
    "It provides a concise way to create a list."
   ]
  },
  {
   "cell_type": "code",
   "execution_count": 16,
   "metadata": {},
   "outputs": [
    {
     "name": "stdout",
     "output_type": "stream",
     "text": [
      "[4, 16, 3025, 4251.04, 9, 81]\n"
     ]
    }
   ],
   "source": [
    "lis = [2,4,55,65.2,3,-9]\n",
    "\n",
    "# list comprehension\n",
    "n = [i*i for i in lis]\n",
    "print(n)"
   ]
  },
  {
   "cell_type": "code",
   "execution_count": null,
   "metadata": {},
   "outputs": [],
   "source": []
  }
 ],
 "metadata": {
  "kernelspec": {
   "display_name": "Python 3",
   "language": "python",
   "name": "python3"
  },
  "language_info": {
   "codemirror_mode": {
    "name": "ipython",
    "version": 3
   },
   "file_extension": ".py",
   "mimetype": "text/x-python",
   "name": "python",
   "nbconvert_exporter": "python",
   "pygments_lexer": "ipython3",
   "version": "3.8.5"
  }
 },
 "nbformat": 4,
 "nbformat_minor": 4
}
