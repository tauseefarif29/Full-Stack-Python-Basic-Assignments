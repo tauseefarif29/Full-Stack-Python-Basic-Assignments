{
 "cells": [
  {
   "cell_type": "markdown",
   "metadata": {},
   "source": [
    "### Question 1\n",
    "\n",
    "Why are functions advantageous to have in your programs?"
   ]
  },
  {
   "cell_type": "markdown",
   "metadata": {},
   "source": [
    "### Answer 1\n",
    "\n",
    "Functions are very advantageous in programs, specially when we are writing long codes.\n",
    "\n",
    "* Function reduces the need to write a particular set of code again and again. We can write a function of any complexity only once and call it multiple times as per our need for any number of time.\n",
    "\n",
    "* By using functions we make our code shorter, easier to read or update.\n",
    "\n",
    "* A function can be called a mini program, which we can write separately, hence reduces the complexity of our main program."
   ]
  },
  {
   "cell_type": "markdown",
   "metadata": {},
   "source": [
    "### Question 2\n",
    "\n",
    "When does the code in a function run: when it's specified or when it's called?"
   ]
  },
  {
   "cell_type": "markdown",
   "metadata": {},
   "source": [
    "### Answer 2\n",
    "\n",
    "Codes inside a function runs when the function is called not just specified.\n",
    "\n",
    "The main program calls any function to perform their specific task. When main program calls another function, it passes execution control to the function."
   ]
  },
  {
   "cell_type": "markdown",
   "metadata": {},
   "source": [
    "### Question 3\n",
    "\n",
    "What statement creates a function?"
   ]
  },
  {
   "cell_type": "markdown",
   "metadata": {},
   "source": [
    "### Answer 3\n",
    "\n",
    "For creating a function a specific set of procedure/ statement is followed.\n",
    "\n",
    "* `\"def\"` keyword is the statement for defining a function in python.\n",
    "\n",
    "* We start with `def` keyword, then write the function name with paranthesis and then `\":\"`.\n",
    "\n",
    "* As per the need of function we can pass some variables or arguments within paranthesis.\n",
    "\n",
    "* There are 2 types of functions:\n",
    "    \n",
    "    a. In built functions\n",
    "    \n",
    "    b. User defined functions"
   ]
  },
  {
   "cell_type": "code",
   "execution_count": 2,
   "metadata": {},
   "outputs": [
    {
     "name": "stdout",
     "output_type": "stream",
     "text": [
      "This is a function\n"
     ]
    }
   ],
   "source": [
    "# Example\n",
    "\n",
    "def my_func1():\n",
    "    print(\"This is a function\")\n",
    "    \n",
    "    \n",
    "my_func1()"
   ]
  },
  {
   "cell_type": "markdown",
   "metadata": {},
   "source": [
    "### Question 4\n",
    "\n",
    "What is the difference between a function and a function call?"
   ]
  },
  {
   "cell_type": "markdown",
   "metadata": {},
   "source": [
    "### Answer 4\n",
    "\n",
    "Function is a collection of python statements used to perform specific task. Function takes input as parameters,  performs some specific tasks over it and the finally gives the output.\n",
    "\n",
    "Function call is a syntax to call a particular function as:-\n",
    "\n",
    "    function_name(parameters)"
   ]
  },
  {
   "cell_type": "markdown",
   "metadata": {},
   "source": [
    "### Question 5\n",
    "\n",
    "How many global scopes are there in a Python program? How many local scopes?"
   ]
  },
  {
   "cell_type": "markdown",
   "metadata": {},
   "source": [
    "### Answer 5\n",
    "\n",
    "Variable that are defined inside a function is call local variable, and those defined outside the function is called global variable.\n",
    "\n",
    "Local variables can be accessed only by the function in which it is defined, and global variable can be accessed any where throughout the program by all the functions.\n",
    "\n",
    "#### One Global Scope\n",
    "There is only one global scope per program execution. This global scope remains in existance until the program terminates and all its names are forgotten. Otherwise when next time the program is run it will remember the value from previous run.\n",
    "\n",
    "#### Three Local Scope\n",
    "If any unqualified name is found inside a function, Python searches for 3 local scopes, namely local(L), global(G) or built-in(B). \n"
   ]
  },
  {
   "cell_type": "markdown",
   "metadata": {},
   "source": [
    "### Question 6\n",
    "\n",
    "What happens to variables in a local scope when the function call returns?"
   ]
  },
  {
   "cell_type": "markdown",
   "metadata": {},
   "source": [
    "### Answer 6\n",
    "\n",
    "A local variable retains its value until the function is called.\n",
    "\n",
    "Local variable becomes undefined after the function call completes.\n",
    "\n",
    "The local variable can be used outside the function anytime after the function call completes."
   ]
  },
  {
   "cell_type": "markdown",
   "metadata": {},
   "source": [
    "### Question 7\n",
    "\n",
    "What is the concept of a return value? Is it possible to have a return value in an expression?"
   ]
  },
  {
   "cell_type": "markdown",
   "metadata": {},
   "source": [
    "### Answer 7\n",
    "\n",
    "A python return statement is a special statement that can be used inside a function or method to send the function's result back to the caller.\n",
    "\n",
    "A return statement consists of the return keywork followed by an optional return value. The return value can be any python object.\n",
    "\n",
    "Yes an expression can have return value."
   ]
  },
  {
   "cell_type": "markdown",
   "metadata": {},
   "source": [
    "### Question 8\n",
    "\n",
    "If a function does not have a return statement, what is the return value of a call to that function?"
   ]
  },
  {
   "cell_type": "markdown",
   "metadata": {},
   "source": [
    "### Answer 8\n",
    "\n",
    "If a function does not have a return statement then it returns `none`."
   ]
  },
  {
   "cell_type": "markdown",
   "metadata": {},
   "source": [
    "### Question 9\n",
    "\n",
    "How do you make a function variable refer to the global variable?"
   ]
  },
  {
   "cell_type": "markdown",
   "metadata": {},
   "source": [
    "### Answer 9\n",
    "\n",
    "If we want to make a function variable refer to global variable, we can use `global` keyword to declare it as global."
   ]
  },
  {
   "cell_type": "code",
   "execution_count": 4,
   "metadata": {},
   "outputs": [
    {
     "name": "stdout",
     "output_type": "stream",
     "text": [
      "The value of x inside function is:  15\n",
      "The value of x ouside the function is:  15\n"
     ]
    }
   ],
   "source": [
    "x = 10\n",
    "\n",
    "def change():\n",
    "    global x \n",
    "    x += 5\n",
    "    \n",
    "    print(\"The value of x inside function is: \" , x)\n",
    " \n",
    "change()\n",
    "\n",
    "print(\"The value of x ouside the function is: \", x)"
   ]
  },
  {
   "cell_type": "markdown",
   "metadata": {},
   "source": [
    "### Question 10\n",
    "\n",
    "What is the data type of None?"
   ]
  },
  {
   "cell_type": "markdown",
   "metadata": {},
   "source": [
    "### Answer 10\n",
    "\n",
    "None is a keyword used to define null variables or an object. None keyword is an object and the data type is None type."
   ]
  },
  {
   "cell_type": "code",
   "execution_count": 8,
   "metadata": {},
   "outputs": [
    {
     "data": {
      "text/plain": [
       "NoneType"
      ]
     },
     "execution_count": 8,
     "metadata": {},
     "output_type": "execute_result"
    }
   ],
   "source": [
    "type(None)"
   ]
  },
  {
   "cell_type": "markdown",
   "metadata": {},
   "source": [
    "### Question 11\n",
    "\n",
    "What does the sentence import areallyourpetsnamederic do?"
   ]
  },
  {
   "cell_type": "markdown",
   "metadata": {},
   "source": [
    "### Answer 11\n",
    "\n",
    "The given sentence will import a module named areallyourpetsnamederic."
   ]
  },
  {
   "cell_type": "markdown",
   "metadata": {},
   "source": [
    "### Question 12\n",
    "\n",
    "If you had a bacon() feature in a spam module, what would you call it after importing spam?"
   ]
  },
  {
   "cell_type": "markdown",
   "metadata": {},
   "source": [
    "### Answer 12\n",
    "\n"
   ]
  },
  {
   "cell_type": "markdown",
   "metadata": {},
   "source": [
    "import spam\n",
    "\n",
    "spam.bacon()"
   ]
  },
  {
   "cell_type": "markdown",
   "metadata": {},
   "source": [
    "### Question 13\n",
    "\n",
    "13. What can you do to save a programme from crashing if it encounters an error?\n"
   ]
  },
  {
   "cell_type": "markdown",
   "metadata": {},
   "source": [
    "### Answer 13\n",
    "\n",
    "If we want to save a programme from crashing if it encounters an error, we can use try and except blocks.\n",
    "\n",
    "`Try` block lets us to test a code for errors.\n",
    "\n",
    "`Except` block lets us handle the errors.\n",
    "\n",
    "`Finally` block executes the code regardless of the result of try - except blocks."
   ]
  },
  {
   "cell_type": "markdown",
   "metadata": {},
   "source": [
    "### Question 14\n",
    "\n",
    "14. What is the purpose of the try clause? What is the purpose of the except clause?"
   ]
  },
  {
   "cell_type": "markdown",
   "metadata": {},
   "source": [
    "### Answer 14\n",
    "\n",
    "If we want to save a programme from crashing if it encounters an error, we can use try and except blocks.\n",
    "\n",
    "`Try` block lets us to test a code for errors.\n",
    "\n",
    "`Except` block lets us handle the errors."
   ]
  },
  {
   "cell_type": "code",
   "execution_count": null,
   "metadata": {},
   "outputs": [],
   "source": []
  }
 ],
 "metadata": {
  "kernelspec": {
   "display_name": "Python 3",
   "language": "python",
   "name": "python3"
  },
  "language_info": {
   "codemirror_mode": {
    "name": "ipython",
    "version": 3
   },
   "file_extension": ".py",
   "mimetype": "text/x-python",
   "name": "python",
   "nbconvert_exporter": "python",
   "pygments_lexer": "ipython3",
   "version": "3.8.5"
  }
 },
 "nbformat": 4,
 "nbformat_minor": 4
}
