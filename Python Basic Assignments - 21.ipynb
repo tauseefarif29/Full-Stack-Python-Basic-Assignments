{
 "cells": [
  {
   "cell_type": "markdown",
   "metadata": {},
   "source": [
    "### Question 1\n",
    "\n",
    "Add the current date to the text file today.txt as a string."
   ]
  },
  {
   "cell_type": "markdown",
   "metadata": {},
   "source": [
    "### Answer 1"
   ]
  },
  {
   "cell_type": "code",
   "execution_count": 6,
   "metadata": {},
   "outputs": [
    {
     "name": "stdout",
     "output_type": "stream",
     "text": [
      "2021-05-17 15:02:44.256314\n"
     ]
    }
   ],
   "source": [
    "import datetime\n",
    "\n",
    "date = datetime.datetime.now()\n",
    "\n",
    "f = open(\"today.txt\", \"w\")\n",
    "f.write(str(date))\n",
    "f.close\n",
    "\n",
    "f = open(\"today.txt\", \"r\")\n",
    "print(f.read())"
   ]
  },
  {
   "cell_type": "markdown",
   "metadata": {},
   "source": [
    "### Question 2\n",
    "\n",
    "Read the text file today.txt into the string today_string"
   ]
  },
  {
   "cell_type": "markdown",
   "metadata": {},
   "source": [
    "### Answer 2"
   ]
  },
  {
   "cell_type": "code",
   "execution_count": 11,
   "metadata": {},
   "outputs": [
    {
     "name": "stdout",
     "output_type": "stream",
     "text": [
      "2021-05-17 15:02:44.256314\n"
     ]
    }
   ],
   "source": [
    "f = open(\"today.txt\", \"r\")\n",
    "today_string = str(f.read())\n",
    "\n",
    "print(today_string)\n",
    "f.close()"
   ]
  },
  {
   "cell_type": "markdown",
   "metadata": {},
   "source": [
    "### Question 3\n",
    "\n",
    "Parse the date from today_string."
   ]
  },
  {
   "cell_type": "markdown",
   "metadata": {},
   "source": [
    "### Answer 3"
   ]
  },
  {
   "cell_type": "code",
   "execution_count": 13,
   "metadata": {},
   "outputs": [
    {
     "data": {
      "text/plain": [
       "datetime.datetime(2021, 5, 17, 15, 2, 44, 256314)"
      ]
     },
     "execution_count": 13,
     "metadata": {},
     "output_type": "execute_result"
    }
   ],
   "source": [
    "import dateutil.parser as parser\n",
    "\n",
    "parser.parse(today_string)"
   ]
  },
  {
   "cell_type": "markdown",
   "metadata": {},
   "source": [
    "### Question 4\n",
    "\n",
    "List the files in your current directory"
   ]
  },
  {
   "cell_type": "markdown",
   "metadata": {},
   "source": [
    "### Answer 4"
   ]
  },
  {
   "cell_type": "code",
   "execution_count": 16,
   "metadata": {
    "scrolled": true
   },
   "outputs": [
    {
     "data": {
      "text/plain": [
       "['.android',\n",
       " '.astropy',\n",
       " '.cisco',\n",
       " '.conda',\n",
       " '.condarc',\n",
       " '.config',\n",
       " '.cufflinks',\n",
       " '.dbshell',\n",
       " '.eclipse',\n",
       " '.git',\n",
       " '.gitconfig',\n",
       " '.idlerc',\n",
       " '.ipynb_checkpoints',\n",
       " '.ipython',\n",
       " '.jupyter',\n",
       " '.keras',\n",
       " '.matplotlib',\n",
       " '.mongorc.js',\n",
       " '.p2',\n",
       " '.python_history',\n",
       " '.spyder-py3',\n",
       " '3D Objects',\n",
       " 'adult.test',\n",
       " 'anaconda3',\n",
       " 'app3.log',\n",
       " 'app4.log',\n",
       " 'app5.log',\n",
       " 'AppData',\n",
       " 'Application Data',\n",
       " 'books.csv',\n",
       " 'books.db',\n",
       " 'compressed_racoon.png',\n",
       " 'Contacts',\n",
       " 'Cookies',\n",
       " 'Data Cleaning Assignment.ipynb',\n",
       " 'Data Visualization Assignment.ipynb',\n",
       " 'data.db',\n",
       " 'data_stocks.csv',\n",
       " 'debug.log',\n",
       " 'Desktop',\n",
       " 'Documents',\n",
       " 'Downloads',\n",
       " 'DTCmodelForprediction.sav',\n",
       " 'eclipse',\n",
       " 'eclipse-workspace',\n",
       " 'Exception handling Assignment.ipynb',\n",
       " 'Favorites',\n",
       " 'image.jpg',\n",
       " 'IntelGraphicsProfiles',\n",
       " 'Links',\n",
       " 'Local Settings',\n",
       " 'logging',\n",
       " 'Matplotlib Assignment.ipynb',\n",
       " 'Microsoft',\n",
       " 'MicrosoftEdgeBackups',\n",
       " 'ML Assignment - Clustering.ipynb',\n",
       " 'ML Assignment - Decision Tree.ipynb',\n",
       " 'ML Assignment - Random Forest.ipynb',\n",
       " 'ML Assignment 1 - Linear regression.ipynb',\n",
       " 'ML Assignment 2 - Logistics Regression.ipynb',\n",
       " 'ML Project - Clustering.ipynb',\n",
       " 'Music',\n",
       " 'My Documents',\n",
       " 'NetHood',\n",
       " 'new',\n",
       " 'new_image.jpg',\n",
       " 'New_Image1.jpg',\n",
       " 'NTUSER.DAT',\n",
       " 'ntuser.dat.LOG1',\n",
       " 'ntuser.dat.LOG2',\n",
       " 'NTUSER.DAT{7e50c533-d319-11ea-81d1-be38791b4ab8}.TM.blf',\n",
       " 'NTUSER.DAT{7e50c533-d319-11ea-81d1-be38791b4ab8}.TMContainer00000000000000000001.regtrans-ms',\n",
       " 'NTUSER.DAT{7e50c533-d319-11ea-81d1-be38791b4ab8}.TMContainer00000000000000000002.regtrans-ms',\n",
       " 'ntuser.ini',\n",
       " 'NumPy  Assignment.ipynb',\n",
       " 'OneDrive',\n",
       " 'PCAmodel.sav',\n",
       " 'Pictures',\n",
       " 'Postman',\n",
       " 'PrintHood',\n",
       " 'PycharmProjects',\n",
       " 'Python Assessment 1.ipynb',\n",
       " 'Python Assignment 1.ipynb',\n",
       " 'Python Assignment 3.ipynb',\n",
       " 'Python Assignment 4.ipynb',\n",
       " 'Python Basic Assignment 1.ipynb',\n",
       " 'Python Basic Assignments - 10.ipynb',\n",
       " 'Python Basic Assignments - 11.ipynb',\n",
       " 'Python Basic Assignments - 12.ipynb',\n",
       " 'Python Basic Assignments - 13.ipynb',\n",
       " 'Python Basic Assignments - 14.ipynb',\n",
       " 'Python Basic Assignments - 15.ipynb',\n",
       " 'Python Basic Assignments - 16.ipynb',\n",
       " 'Python Basic Assignments - 17.ipynb',\n",
       " 'Python Basic Assignments - 18.ipynb',\n",
       " 'Python Basic Assignments - 19.ipynb',\n",
       " 'Python Basic Assignments - 2.ipynb',\n",
       " 'Python Basic Assignments - 20.ipynb',\n",
       " 'Python Basic Assignments - 21.ipynb',\n",
       " 'Python Basic Assignments - 3.ipynb',\n",
       " 'Python Basic Assignments - 4.ipynb',\n",
       " 'Python Basic Assignments - 5.ipynb',\n",
       " 'Python Basic Assignments - 6.ipynb',\n",
       " 'Python Basic Assignments - 7.ipynb',\n",
       " 'Python Basic Assignments - 8.ipynb',\n",
       " 'Python Basic Assignments - 9.ipynb',\n",
       " 'rasaxProject',\n",
       " 'Recent',\n",
       " 'Saved Games',\n",
       " 'seaborn-data',\n",
       " 'Searches',\n",
       " 'SendTo',\n",
       " 'source',\n",
       " 'StandardScaler.sav',\n",
       " 'Start Menu',\n",
       " 'Statistics Assignment 1.ipynb',\n",
       " 'Statistics Assignment 2.ipynb',\n",
       " 'Statistics Assignment 4.ipynb',\n",
       " 'Statistics Assignments 3.ipynb',\n",
       " 'Templates',\n",
       " 'test.log',\n",
       " 'test.py',\n",
       " 'test.txt',\n",
       " 'test1.txt',\n",
       " 'test2.txt',\n",
       " 'test4.py',\n",
       " 'text.txt',\n",
       " 'today.txt',\n",
       " 'Untitled Folder',\n",
       " 'Untitled Folder 1',\n",
       " 'Untitled Folder 2',\n",
       " 'Untitled Folder 3',\n",
       " 'Untitled Folder 4',\n",
       " 'Untitled Folder 5',\n",
       " 'Untitled10.ipynb',\n",
       " 'Untitled11.ipynb',\n",
       " 'Untitled12.ipynb',\n",
       " 'Untitled2.ipynb',\n",
       " 'Untitled3.ipynb',\n",
       " 'Untitled4.ipynb',\n",
       " 'Untitled5.ipynb',\n",
       " 'Untitled6.ipynb',\n",
       " 'Untitled7.ipynb',\n",
       " 'Untitled8.ipynb',\n",
       " 'Untitled9.ipynb',\n",
       " 'Videos',\n",
       " 'zoo.py',\n",
       " '_netrc',\n",
       " '__pycache__']"
      ]
     },
     "execution_count": 16,
     "metadata": {},
     "output_type": "execute_result"
    }
   ],
   "source": [
    "import os\n",
    "\n",
    "os.listdir()"
   ]
  },
  {
   "cell_type": "markdown",
   "metadata": {},
   "source": [
    "### Question 5\n",
    "\n",
    "Create a list of all of the files in your parent directory (minimum five files should be available)."
   ]
  },
  {
   "cell_type": "code",
   "execution_count": null,
   "metadata": {},
   "outputs": [],
   "source": [
    "import os\n",
    "\n",
    "path = 'C:\\\\Users\\\\Tauseef'\n",
    "\n",
    "files = []\n",
    "\n",
    "for r,d,f in os.walk(path): \n",
    "    for file in f:\n",
    "        if \".txt\" in file:\n",
    "            files.append(os.path.join(r, file))\n",
    "            \n",
    "for f in files:\n",
    "    print(f)"
   ]
  },
  {
   "cell_type": "markdown",
   "metadata": {},
   "source": [
    "### Question 6\n",
    "Use multiprocessing to create three separate processes. Make each one wait a random number of\n",
    "seconds between one and five, print the current time, and then exit."
   ]
  },
  {
   "cell_type": "markdown",
   "metadata": {},
   "source": [
    "### Answer 6"
   ]
  },
  {
   "cell_type": "code",
   "execution_count": 3,
   "metadata": {},
   "outputs": [
    {
     "name": "stdout",
     "output_type": "stream",
     "text": [
      "done\n"
     ]
    }
   ],
   "source": [
    "import multiprocessing\n",
    "from datetime import datetime\n",
    "from random import randint\n",
    "from time import sleep\n",
    "\n",
    "def current_time():\n",
    "    now = datetime.now()\n",
    "    time = now.strftime(\"%H:%M:%S\")\n",
    "    print(time)\n",
    "\n",
    "p1 = multiprocessing.Process(target=current_time)\n",
    "sleep(randint(1,5))\n",
    "p2 = multiprocessing.Process(target=current_time)\n",
    "sleep(randint(1,5))\n",
    "p3 = multiprocessing.Process(target=current_time)\n",
    "sleep(randint(1,5))\n",
    "\n",
    "\n",
    "p1.start()\n",
    "p2.start()\n",
    "p3.start()\n",
    "\n",
    "p1.join()\n",
    "p2.join()\n",
    "p3.join()\n",
    "\n",
    "print(\"done\")"
   ]
  },
  {
   "cell_type": "markdown",
   "metadata": {},
   "source": [
    "### Question 7\n",
    "\n",
    "Create a date object of your day of birth."
   ]
  },
  {
   "cell_type": "markdown",
   "metadata": {},
   "source": [
    "### Answer 7"
   ]
  },
  {
   "cell_type": "code",
   "execution_count": 4,
   "metadata": {},
   "outputs": [
    {
     "name": "stdout",
     "output_type": "stream",
     "text": [
      "1987-01-13 00:00:00\n"
     ]
    }
   ],
   "source": [
    "import datetime\n",
    "\n",
    "day_of_birth = datetime.datetime(1987,1,13)\n",
    "print(day_of_birth)"
   ]
  },
  {
   "cell_type": "markdown",
   "metadata": {},
   "source": [
    "### Question 8\n",
    "\n",
    "What day of the week was your day of birth?"
   ]
  },
  {
   "cell_type": "markdown",
   "metadata": {},
   "source": [
    "### Answer 8"
   ]
  },
  {
   "cell_type": "code",
   "execution_count": 5,
   "metadata": {},
   "outputs": [
    {
     "name": "stdout",
     "output_type": "stream",
     "text": [
      "Tuesday\n"
     ]
    }
   ],
   "source": [
    "import datetime\n",
    "\n",
    "day_of_birth = datetime.datetime(1987,1,13)\n",
    "print(day_of_birth.strftime(\"%A\"))"
   ]
  },
  {
   "cell_type": "markdown",
   "metadata": {},
   "source": [
    "### Question 9\n",
    "\n",
    "When will you be (or when were you) 10,000 days old?"
   ]
  },
  {
   "cell_type": "markdown",
   "metadata": {},
   "source": [
    "### Answer 9"
   ]
  },
  {
   "cell_type": "code",
   "execution_count": 10,
   "metadata": {},
   "outputs": [
    {
     "name": "stdout",
     "output_type": "stream",
     "text": [
      "2014-05-31 00:00:00\n"
     ]
    }
   ],
   "source": [
    "import datetime\n",
    "from datetime import timedelta\n",
    "\n",
    "day_of_birth = datetime.datetime(1987,1,13)\n",
    "\n",
    "print(day_of_birth + timedelta(days = 10000))"
   ]
  },
  {
   "cell_type": "markdown",
   "metadata": {},
   "source": [
    "On 31st May 2014 I was 10,000 days old."
   ]
  },
  {
   "cell_type": "code",
   "execution_count": null,
   "metadata": {},
   "outputs": [],
   "source": []
  }
 ],
 "metadata": {
  "kernelspec": {
   "display_name": "Python 3",
   "language": "python",
   "name": "python3"
  },
  "language_info": {
   "codemirror_mode": {
    "name": "ipython",
    "version": 3
   },
   "file_extension": ".py",
   "mimetype": "text/x-python",
   "name": "python",
   "nbconvert_exporter": "python",
   "pygments_lexer": "ipython3",
   "version": "3.8.5"
  }
 },
 "nbformat": 4,
 "nbformat_minor": 4
}
