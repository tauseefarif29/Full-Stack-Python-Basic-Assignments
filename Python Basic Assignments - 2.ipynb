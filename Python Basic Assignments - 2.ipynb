{
 "cells": [
  {
   "cell_type": "markdown",
   "metadata": {},
   "source": [
    "### Question 1\n",
    "\n",
    "What are the two values of the Boolean data type? How do you write them?"
   ]
  },
  {
   "cell_type": "markdown",
   "metadata": {},
   "source": [
    "### Answer 1\n",
    "\n",
    "The two values of a variable with data type as bool are `True` and `False`.\n",
    "\n",
    "A boolean data type is declared with bool keyword and can only take the values as `True` or `False`. `True = 1` and `False = 0`.\n",
    "\n",
    "Example:"
   ]
  },
  {
   "cell_type": "code",
   "execution_count": 2,
   "metadata": {},
   "outputs": [
    {
     "name": "stdout",
     "output_type": "stream",
     "text": [
      "True\n",
      "False\n"
     ]
    }
   ],
   "source": [
    "print(bool(\"Hello\"))\n",
    "print(bool(0))"
   ]
  },
  {
   "cell_type": "markdown",
   "metadata": {},
   "source": [
    "### Question 2\n",
    "\n",
    "What are the three different types of Boolean operators?"
   ]
  },
  {
   "cell_type": "markdown",
   "metadata": {},
   "source": [
    "### Answer 2\n",
    "\n",
    "The three different types of boolean operators are (`and`, `or` & `not`).\n",
    "\n",
    "They evaluate the values as boolean values and return output as `True` or `False`\n",
    "\n",
    "Example:\n",
    "\n",
    "* x or y   `Result`   True if atleast one is True\n",
    "* x and y  `Result`   True if both are True\n",
    "* not x    `Result`   True only if False"
   ]
  },
  {
   "cell_type": "markdown",
   "metadata": {},
   "source": [
    "### Question 3\n",
    "\n",
    "Make a list of each Boolean operator&#39;s truth tables (i.e. every possible combination of Boolean\n",
    "values for the operator and what it evaluate )."
   ]
  },
  {
   "cell_type": "markdown",
   "metadata": {},
   "source": [
    "### Answer 3\n",
    "\n",
    "We can generate truth table using truth table generartor."
   ]
  },
  {
   "cell_type": "code",
   "execution_count": 4,
   "metadata": {
    "scrolled": true
   },
   "outputs": [
    {
     "name": "stdout",
     "output_type": "stream",
     "text": [
      "Note: you may need to restart the kernel to use updated packages.Collecting truth-table-generator\n",
      "  Downloading truth_table_generator-1.1.2.tar.gz (14 kB)\n",
      "Requirement already satisfied: numpy in c:\\users\\tauseef\\anaconda3\\lib\\site-packages (from truth-table-generator) (1.19.2)\n",
      "Requirement already satisfied: pandas in c:\\users\\tauseef\\anaconda3\\lib\\site-packages (from truth-table-generator) (1.1.3)\n",
      "Collecting PTable\n",
      "  Downloading PTable-0.9.2.tar.gz (31 kB)\n",
      "Requirement already satisfied: pyparsing in c:\\users\\tauseef\\anaconda3\\lib\\site-packages (from truth-table-generator) (2.4.7)\n",
      "Requirement already satisfied: tabulate in c:\\users\\tauseef\\anaconda3\\lib\\site-packages (from truth-table-generator) (0.8.7)\n",
      "Requirement already satisfied: jinja2 in c:\\users\\tauseef\\anaconda3\\lib\\site-packages (from truth-table-generator) (2.11.2)\n",
      "Requirement already satisfied: python-dateutil>=2.7.3 in c:\\users\\tauseef\\anaconda3\\lib\\site-packages (from pandas->truth-table-generator) (2.8.1)\n",
      "Requirement already satisfied: pytz>=2017.2 in c:\\users\\tauseef\\anaconda3\\lib\\site-packages (from pandas->truth-table-generator) (2020.1)\n",
      "Requirement already satisfied: MarkupSafe>=0.23 in c:\\users\\tauseef\\anaconda3\\lib\\site-packages (from jinja2->truth-table-generator) (1.1.1)\n",
      "Requirement already satisfied: six>=1.5 in c:\\users\\tauseef\\anaconda3\\lib\\site-packages (from python-dateutil>=2.7.3->pandas->truth-table-generator) (1.15.0)\n",
      "Building wheels for collected packages: truth-table-generator, PTable\n",
      "  Building wheel for truth-table-generator (setup.py): started\n",
      "  Building wheel for truth-table-generator (setup.py): finished with status 'done'\n",
      "  Created wheel for truth-table-generator: filename=truth_table_generator-1.1.2-py3-none-any.whl size=13952 sha256=22a9b25e6d64d9ecaa616fac3637115f8b9c2b9cd3bc3aad3a95e154999fd8bc\n",
      "  Stored in directory: c:\\users\\tauseef\\appdata\\local\\pip\\cache\\wheels\\85\\e5\\cc\\ca442a6edc82add4d37b2c4c9ccf389231be6973597ef1771f\n",
      "  Building wheel for PTable (setup.py): started\n",
      "  Building wheel for PTable (setup.py): finished with status 'done'\n",
      "  Created wheel for PTable: filename=PTable-0.9.2-py3-none-any.whl size=22910 sha256=ced8666b317791c4d74b3b01caa02807ee9401d55ed5a0adeef6bd8119526340\n",
      "  Stored in directory: c:\\users\\tauseef\\appdata\\local\\pip\\cache\\wheels\\1b\\3a\\02\\8d8da2bca2223dda2f827949c88b2d82dc85dccbc2bb6265e5\n",
      "Successfully built truth-table-generator PTable\n",
      "Installing collected packages: PTable, truth-table-generator\n",
      "\n",
      "Successfully installed PTable-0.9.2 truth-table-generator-1.1.2\n"
     ]
    }
   ],
   "source": [
    "pip install truth-table-generator"
   ]
  },
  {
   "cell_type": "code",
   "execution_count": 9,
   "metadata": {
    "scrolled": true
   },
   "outputs": [
    {
     "name": "stdout",
     "output_type": "stream",
     "text": [
      "+-------+-------+-----------+----------+\n",
      "|   x   |   y   |  x and y  |  x or y  |\n",
      "|-------+-------+-----------+----------|\n",
      "| True  | True  |   True    |   True   |\n",
      "| True  | False |   False   |   True   |\n",
      "| False | True  |   False   |   True   |\n",
      "| False | False |   False   |  False   |\n",
      "+-------+-------+-----------+----------+\n"
     ]
    }
   ],
   "source": [
    "import ttg\n",
    "print(ttg.Truths(['x', 'y'], ['x and y', 'x or y'], ints=False))"
   ]
  },
  {
   "cell_type": "code",
   "execution_count": 10,
   "metadata": {},
   "outputs": [
    {
     "name": "stdout",
     "output_type": "stream",
     "text": [
      "+-----+-----+-----+-----------------+---------------+\n",
      "|  x  |  y  |  z  |  x and y and z  |  x or y or z  |\n",
      "|-----+-----+-----+-----------------+---------------|\n",
      "|  1  |  1  |  1  |        1        |       1       |\n",
      "|  1  |  1  |  0  |        0        |       1       |\n",
      "|  1  |  0  |  1  |        0        |       1       |\n",
      "|  1  |  0  |  0  |        0        |       1       |\n",
      "|  0  |  1  |  1  |        0        |       1       |\n",
      "|  0  |  1  |  0  |        0        |       1       |\n",
      "|  0  |  0  |  1  |        0        |       1       |\n",
      "|  0  |  0  |  0  |        0        |       0       |\n",
      "+-----+-----+-----+-----------------+---------------+\n"
     ]
    }
   ],
   "source": [
    "print(ttg.Truths(['x', 'y', 'z'], ['x and y and z', 'x or y or z']))"
   ]
  },
  {
   "cell_type": "markdown",
   "metadata": {},
   "source": [
    "### Question 4\n",
    "\n",
    "What are the values of the following expressions?"
   ]
  },
  {
   "cell_type": "markdown",
   "metadata": {},
   "source": [
    "### Answer 4\n",
    "\n"
   ]
  },
  {
   "cell_type": "code",
   "execution_count": 15,
   "metadata": {},
   "outputs": [
    {
     "data": {
      "text/plain": [
       "False"
      ]
     },
     "execution_count": 15,
     "metadata": {},
     "output_type": "execute_result"
    }
   ],
   "source": [
    "(5 > 4) and (3 == 5)"
   ]
  },
  {
   "cell_type": "code",
   "execution_count": 16,
   "metadata": {},
   "outputs": [
    {
     "data": {
      "text/plain": [
       "False"
      ]
     },
     "execution_count": 16,
     "metadata": {},
     "output_type": "execute_result"
    }
   ],
   "source": [
    "not (5 > 4)"
   ]
  },
  {
   "cell_type": "code",
   "execution_count": 18,
   "metadata": {},
   "outputs": [
    {
     "data": {
      "text/plain": [
       "True"
      ]
     },
     "execution_count": 18,
     "metadata": {},
     "output_type": "execute_result"
    }
   ],
   "source": [
    "(5 > 4) or (3 == 5)"
   ]
  },
  {
   "cell_type": "code",
   "execution_count": 19,
   "metadata": {},
   "outputs": [
    {
     "data": {
      "text/plain": [
       "False"
      ]
     },
     "execution_count": 19,
     "metadata": {},
     "output_type": "execute_result"
    }
   ],
   "source": [
    "not ((5 > 4) or (3 == 5))"
   ]
  },
  {
   "cell_type": "code",
   "execution_count": 20,
   "metadata": {},
   "outputs": [
    {
     "data": {
      "text/plain": [
       "False"
      ]
     },
     "execution_count": 20,
     "metadata": {},
     "output_type": "execute_result"
    }
   ],
   "source": [
    "(True and True) and (True == False)"
   ]
  },
  {
   "cell_type": "code",
   "execution_count": 21,
   "metadata": {},
   "outputs": [
    {
     "data": {
      "text/plain": [
       "True"
      ]
     },
     "execution_count": 21,
     "metadata": {},
     "output_type": "execute_result"
    }
   ],
   "source": [
    "(not False) or (not True)"
   ]
  },
  {
   "cell_type": "markdown",
   "metadata": {},
   "source": [
    "### Question 5\n",
    "\n",
    "What are the six comparison operators?"
   ]
  },
  {
   "cell_type": "markdown",
   "metadata": {},
   "source": [
    "### Answer 5\n",
    "\n",
    "Comparision operators in Python are as follows:\n",
    "\n",
    "1. equal (==), check if two operands are equal\n",
    "2. not equal (!=), check if two operands are not equal\n",
    "3. greater than (>), check if check if left operand is greater\n",
    "4. less than (<), check if left operand is lesser\n",
    "5. greater than or equal (>=), check if left operand is greater or equal\n",
    "6. less than or equal (<=), check if left operand is lesser or equal"
   ]
  },
  {
   "cell_type": "code",
   "execution_count": 22,
   "metadata": {},
   "outputs": [
    {
     "name": "stdout",
     "output_type": "stream",
     "text": [
      "False\n",
      "True\n",
      "False\n",
      "True\n",
      "False\n",
      "True\n"
     ]
    }
   ],
   "source": [
    "a = 10\n",
    "b = 20\n",
    "\n",
    "print(a == b)\n",
    "print(a != b)\n",
    "print(a > b)\n",
    "print(a < b)\n",
    "print(a >= b)\n",
    "print(a <= b)\n"
   ]
  },
  {
   "cell_type": "markdown",
   "metadata": {},
   "source": [
    "### Question 6\n",
    "\n",
    "How do you tell the difference between the equal to and assignment operators?Describe a condition and when you would use one.\n"
   ]
  },
  {
   "cell_type": "markdown",
   "metadata": {},
   "source": [
    "Equal to (==) and assignment operator (=) are not same.\n",
    "\n",
    "`(=)` is used to assign a value to a variable, whereas `(==)` is comparison operator used to check if two operands are equal by comparing the values of both left and right side of it."
   ]
  },
  {
   "cell_type": "code",
   "execution_count": 24,
   "metadata": {},
   "outputs": [
    {
     "name": "stdout",
     "output_type": "stream",
     "text": [
      "b is bigger than a\n"
     ]
    }
   ],
   "source": [
    "a = 10 # here = is used as assignment operator\n",
    "b = 20 # here = is used as assignment operator\n",
    "\n",
    "if a == b: # here == is comparision operator, comparing a and b\n",
    "    print(\"a is bigger than b\")\n",
    "else:\n",
    "    print(\"b is bigger than a\")"
   ]
  },
  {
   "cell_type": "markdown",
   "metadata": {},
   "source": [
    "### Question 7\n",
    "\n",
    "Identify the three blocks in this code:"
   ]
  },
  {
   "cell_type": "code",
   "execution_count": 29,
   "metadata": {},
   "outputs": [
    {
     "name": "stdout",
     "output_type": "stream",
     "text": [
      "ham\n",
      "spam\n",
      "spam\n"
     ]
    }
   ],
   "source": [
    "spam = 0\n",
    "if spam == 10:\n",
    "    print('eggs')\n",
    "    if spam > 5:\n",
    "        print('bacon')\n",
    "else:\n",
    "    print('ham')\n",
    "print('spam')\n",
    "print('spam')"
   ]
  },
  {
   "cell_type": "markdown",
   "metadata": {},
   "source": [
    "### Question 8\n",
    "\n",
    "Write code that prints Hello if 1 is stored in spam, prints Howdy if 2 is stored in spam, and prints\n",
    "Greetings! if anything else is stored in spam."
   ]
  },
  {
   "cell_type": "markdown",
   "metadata": {},
   "source": [
    "### Answer 8"
   ]
  },
  {
   "cell_type": "code",
   "execution_count": 34,
   "metadata": {},
   "outputs": [
    {
     "name": "stdout",
     "output_type": "stream",
     "text": [
      "Enter a number: 1\n",
      "Hello\n"
     ]
    }
   ],
   "source": [
    "spam = int(input(\"Enter a number: \"))\n",
    "\n",
    "if spam == 1:\n",
    "    print(\"Hello\")\n",
    "elif spam == 2:\n",
    "    print(\"Howdy\")\n",
    "else:\n",
    "    print(\"Greetings!\")"
   ]
  },
  {
   "cell_type": "markdown",
   "metadata": {},
   "source": [
    "### Question 9\n",
    "\n",
    "If your programme is stuck in an endless loop, what keys you’ll press?"
   ]
  },
  {
   "cell_type": "markdown",
   "metadata": {},
   "source": [
    "### Answer 9\n",
    "\n",
    "If a loop keeps on executing within one loop and it is not able to leave it or iif it becomes a infinite loop, we can press `CTRL+C` in python power shell.\n",
    "\n",
    "If we are in jupyter notebook we can simply interrupt the kernel."
   ]
  },
  {
   "cell_type": "markdown",
   "metadata": {},
   "source": [
    "### Question 10\n",
    "\n",
    "How can you tell the difference between break and continue?"
   ]
  },
  {
   "cell_type": "markdown",
   "metadata": {},
   "source": [
    "### Answer 10\n",
    "\n",
    "`Break` statement exits/ or breaks a for or while loop.\n",
    "\n",
    "`Continue` statement is used to skip code within a loop for certain iterations. After the code is skipped loop continues from where it left off."
   ]
  },
  {
   "cell_type": "code",
   "execution_count": 13,
   "metadata": {},
   "outputs": [
    {
     "name": "stdout",
     "output_type": "stream",
     "text": [
      "The number is 0\n",
      "The number is 1\n",
      "The number is 3\n",
      "The number is 4\n"
     ]
    }
   ],
   "source": [
    "for num in range(5):\n",
    "    if num ==2:\n",
    "        continue\n",
    "    print(\"The number is\" , num)\n",
    "        "
   ]
  },
  {
   "cell_type": "code",
   "execution_count": 14,
   "metadata": {},
   "outputs": [
    {
     "name": "stdout",
     "output_type": "stream",
     "text": [
      "The number is 0\n",
      "The number is 1\n"
     ]
    }
   ],
   "source": [
    "for num in range(5):\n",
    "    if num ==2:\n",
    "        break\n",
    "    print(\"The number is\" , num)"
   ]
  },
  {
   "cell_type": "markdown",
   "metadata": {},
   "source": [
    "### Question 11\n",
    "\n",
    "In a for loop, what is the difference between range(10), range(0, 10), and range(0, 10, 1)?"
   ]
  },
  {
   "cell_type": "markdown",
   "metadata": {},
   "source": [
    "### Answer 11\n",
    "\n",
    "There is no difference between range(10), range(0, 10), and range(0, 10, 1). \n",
    "\n",
    "range takes 3 values(start, stop, step)"
   ]
  },
  {
   "cell_type": "code",
   "execution_count": 26,
   "metadata": {},
   "outputs": [
    {
     "name": "stdout",
     "output_type": "stream",
     "text": [
      "0 1 2 3 4 5 6 7 8 9 "
     ]
    }
   ],
   "source": [
    "for x in range(10): # by default start is 0 and step is 1\n",
    "    print(x, end =\" \")"
   ]
  },
  {
   "cell_type": "code",
   "execution_count": 27,
   "metadata": {},
   "outputs": [
    {
     "name": "stdout",
     "output_type": "stream",
     "text": [
      "0 1 2 3 4 5 6 7 8 9 "
     ]
    }
   ],
   "source": [
    "for y in range(0,10): # by default step is 1\n",
    "    print(y, end = \" \")\n"
   ]
  },
  {
   "cell_type": "code",
   "execution_count": 28,
   "metadata": {},
   "outputs": [
    {
     "name": "stdout",
     "output_type": "stream",
     "text": [
      "0 1 2 3 4 5 6 7 8 9 "
     ]
    }
   ],
   "source": [
    "for z in range(0,10,1):\n",
    "    print(z, end = \" \")"
   ]
  },
  {
   "cell_type": "markdown",
   "metadata": {},
   "source": [
    "### Question 12\n",
    "\n",
    "Write a short program that prints the numbers 1 to 10 using a for loop. Then write an equivalent\n",
    "program that prints the numbers 1 to 10 using a while loop."
   ]
  },
  {
   "cell_type": "markdown",
   "metadata": {},
   "source": [
    "### Answer 12"
   ]
  },
  {
   "cell_type": "code",
   "execution_count": 30,
   "metadata": {},
   "outputs": [
    {
     "name": "stdout",
     "output_type": "stream",
     "text": [
      "1 2 3 4 5 6 7 8 9 10 "
     ]
    }
   ],
   "source": [
    "for num in range(1,11):\n",
    "    print(num, end = \" \")"
   ]
  },
  {
   "cell_type": "code",
   "execution_count": 33,
   "metadata": {},
   "outputs": [
    {
     "name": "stdout",
     "output_type": "stream",
     "text": [
      "1 2 3 4 5 6 7 8 9 10 "
     ]
    }
   ],
   "source": [
    "num = 1\n",
    "\n",
    "while num<11:\n",
    "    print(num , end = \" \")\n",
    "    num += 1"
   ]
  },
  {
   "cell_type": "markdown",
   "metadata": {},
   "source": [
    "### Question 13\n",
    "\n",
    "If you had a function named bacon() inside a module named spam, how would you call it after\n",
    "importing spam?"
   ]
  },
  {
   "cell_type": "markdown",
   "metadata": {},
   "source": [
    "### Answer 13"
   ]
  },
  {
   "cell_type": "markdown",
   "metadata": {},
   "source": [
    "import spam\n",
    "\n",
    "spam.bacon()"
   ]
  },
  {
   "cell_type": "code",
   "execution_count": null,
   "metadata": {},
   "outputs": [],
   "source": []
  }
 ],
 "metadata": {
  "kernelspec": {
   "display_name": "Python 3",
   "language": "python",
   "name": "python3"
  },
  "language_info": {
   "codemirror_mode": {
    "name": "ipython",
    "version": 3
   },
   "file_extension": ".py",
   "mimetype": "text/x-python",
   "name": "python",
   "nbconvert_exporter": "python",
   "pygments_lexer": "ipython3",
   "version": "3.8.5"
  }
 },
 "nbformat": 4,
 "nbformat_minor": 4
}
